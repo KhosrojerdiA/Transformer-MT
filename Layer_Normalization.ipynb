{
  "nbformat": 4,
  "nbformat_minor": 0,
  "metadata": {
    "colab": {
      "provenance": [],
      "authorship_tag": "ABX9TyM+0SPUeSyD0Q6G2HHEISU/",
      "include_colab_link": true
    },
    "kernelspec": {
      "name": "python3",
      "display_name": "Python 3"
    },
    "language_info": {
      "name": "python"
    }
  },
  "cells": [
    {
      "cell_type": "markdown",
      "metadata": {
        "id": "view-in-github",
        "colab_type": "text"
      },
      "source": [
        "<a href=\"https://colab.research.google.com/github/KhosrojerdiA/Transformer-MT/blob/main/Layer_Normalization.ipynb\" target=\"_parent\"><img src=\"https://colab.research.google.com/assets/colab-badge.svg\" alt=\"Open In Colab\"/></a>"
      ]
    },
    {
      "cell_type": "code",
      "execution_count": null,
      "metadata": {
        "id": "et0M3jG9kyer"
      },
      "outputs": [],
      "source": [
        "import torch\n",
        "from torch import nn"
      ]
    },
    {
      "cell_type": "markdown",
      "source": [
        "the Qkv each of them split to 8 parts and each of them will be in ATTN block with vq and ai\n",
        "\n",
        "multiply them and concatenate them to get seq*512 as out (end of multi head attention)\n",
        "\n",
        "then. go to normalization\n",
        "\n",
        "Layer(X + out]"
      ],
      "metadata": {
        "id": "NLhJOLJXmMDk"
      }
    },
    {
      "cell_type": "markdown",
      "source": [
        "Normalization: smaller range center zero. stable training and much more easier steps in backpropigation. faster and more stable tarining\n",
        "\n",
        "layer nor: activation values in neurons in every layer is normalized such that values is center zero and maybe sd of 1.\n",
        "\n",
        "\n",
        "updating parameters after each batch (for larger model with large parameteres to learn)\n",
        "\n"
      ],
      "metadata": {
        "id": "A_pRovuxm5s-"
      }
    },
    {
      "cell_type": "code",
      "source": [
        "inputs = torch.Tensor([[[0.2, 0.1, 0.3],\n",
        "                        [0.5, 0.1, 0.1]]])\n",
        "\n",
        "inputs.size()\n"
      ],
      "metadata": {
        "colab": {
          "base_uri": "https://localhost:8080/"
        },
        "id": "M1NUjZFVk2iF",
        "outputId": "37ad1a12-bb1c-455c-a66a-e2f6534f3255"
      },
      "execution_count": null,
      "outputs": [
        {
          "output_type": "execute_result",
          "data": {
            "text/plain": [
              "torch.Size([1, 2, 3])"
            ]
          },
          "metadata": {},
          "execution_count": 6
        }
      ]
    },
    {
      "cell_type": "code",
      "source": [
        "B, S, E = inputs.size()\n",
        "inputs = inputs.reshape(S, B, E)\n",
        "inputs.size()"
      ],
      "metadata": {
        "colab": {
          "base_uri": "https://localhost:8080/"
        },
        "id": "IpXaUOA8k9k5",
        "outputId": "c25cf30f-ab0a-4059-86f2-ed30812c7e93"
      },
      "execution_count": null,
      "outputs": [
        {
          "output_type": "execute_result",
          "data": {
            "text/plain": [
              "torch.Size([2, 1, 3])"
            ]
          },
          "metadata": {},
          "execution_count": 7
        }
      ]
    },
    {
      "cell_type": "code",
      "source": [
        "inputs"
      ],
      "metadata": {
        "colab": {
          "base_uri": "https://localhost:8080/"
        },
        "id": "M1svU_DMlIVo",
        "outputId": "3987887f-d732-483e-fdfb-a7a976ebe05a"
      },
      "execution_count": null,
      "outputs": [
        {
          "output_type": "execute_result",
          "data": {
            "text/plain": [
              "tensor([[[0.2000, 0.1000, 0.3000]],\n",
              "\n",
              "        [[0.5000, 0.1000, 0.1000]]])"
            ]
          },
          "metadata": {},
          "execution_count": 8
        }
      ]
    },
    {
      "cell_type": "code",
      "source": [
        "\n",
        "parameter_shape = inputs.size()[-2:]\n",
        "gamma = nn.Parameter(torch.ones(parameter_shape))\n",
        "beta =  nn.Parameter(torch.zeros(parameter_shape))\n",
        "\n",
        "\n",
        "gamma.size(), beta.size()"
      ],
      "metadata": {
        "colab": {
          "base_uri": "https://localhost:8080/"
        },
        "id": "g-2aCjHLlVnN",
        "outputId": "52572875-ff25-47a7-c50a-ba94c74de2af"
      },
      "execution_count": null,
      "outputs": [
        {
          "output_type": "execute_result",
          "data": {
            "text/plain": [
              "(torch.Size([1, 3]), torch.Size([1, 3]))"
            ]
          },
          "metadata": {},
          "execution_count": 9
        }
      ]
    },
    {
      "cell_type": "code",
      "source": [
        "dims = [-(i + 1) for i in range(len(parameter_shape))]\n",
        "dims"
      ],
      "metadata": {
        "colab": {
          "base_uri": "https://localhost:8080/"
        },
        "id": "7fF_QpOMlZ0v",
        "outputId": "4c31d23c-1abe-4db3-8669-8035f89e28ae"
      },
      "execution_count": null,
      "outputs": [
        {
          "output_type": "execute_result",
          "data": {
            "text/plain": [
              "[-1, -2]"
            ]
          },
          "metadata": {},
          "execution_count": 10
        }
      ]
    },
    {
      "cell_type": "code",
      "source": [
        "\n",
        "mean = inputs.mean(dim=dims, keepdim=True)\n",
        "mean.size()\n"
      ],
      "metadata": {
        "colab": {
          "base_uri": "https://localhost:8080/"
        },
        "id": "rUXvPFohlcZ8",
        "outputId": "d7e344fa-c92a-4b84-aecf-ed052db1cfe9"
      },
      "execution_count": null,
      "outputs": [
        {
          "output_type": "execute_result",
          "data": {
            "text/plain": [
              "torch.Size([2, 1, 1])"
            ]
          },
          "metadata": {},
          "execution_count": 11
        }
      ]
    },
    {
      "cell_type": "code",
      "source": [
        "\n",
        "var = ((inputs - mean) ** 2).mean(dim=dims, keepdim=True)\n",
        "epsilon = 1e-5\n",
        "std = (var + epsilon).sqrt()\n",
        "std"
      ],
      "metadata": {
        "colab": {
          "base_uri": "https://localhost:8080/"
        },
        "id": "nlCBNdkBleXP",
        "outputId": "b3b4ac87-ad10-46ea-ac56-44b7d10c2421"
      },
      "execution_count": null,
      "outputs": [
        {
          "output_type": "execute_result",
          "data": {
            "text/plain": [
              "tensor([[[0.0817]],\n",
              "\n",
              "        [[0.1886]]])"
            ]
          },
          "metadata": {},
          "execution_count": 12
        }
      ]
    },
    {
      "cell_type": "code",
      "source": [
        "\n",
        "y = (inputs - mean) / std\n",
        "y\n"
      ],
      "metadata": {
        "colab": {
          "base_uri": "https://localhost:8080/"
        },
        "id": "hZ3-5Z7_lgNU",
        "outputId": "b0234cbd-d1f5-4b73-fa49-ccb489bec12b"
      },
      "execution_count": null,
      "outputs": [
        {
          "output_type": "execute_result",
          "data": {
            "text/plain": [
              "tensor([[[ 0.0000, -1.2238,  1.2238]],\n",
              "\n",
              "        [[ 1.4140, -0.7070, -0.7070]]])"
            ]
          },
          "metadata": {},
          "execution_count": 13
        }
      ]
    },
    {
      "cell_type": "code",
      "source": [
        "\n",
        "out = gamma * y + beta\n",
        "out"
      ],
      "metadata": {
        "colab": {
          "base_uri": "https://localhost:8080/"
        },
        "id": "RMv8SdGDlh6S",
        "outputId": "a55f9e50-4168-4fa5-ef1d-49a241434574"
      },
      "execution_count": null,
      "outputs": [
        {
          "output_type": "execute_result",
          "data": {
            "text/plain": [
              "tensor([[[ 0.0000, -1.2238,  1.2238]],\n",
              "\n",
              "        [[ 1.4140, -0.7070, -0.7070]]], grad_fn=<AddBackward0>)"
            ]
          },
          "metadata": {},
          "execution_count": 14
        }
      ]
    },
    {
      "cell_type": "code",
      "source": [
        "#Class\n",
        "\n",
        "import torch\n",
        "from torch import nn\n",
        "\n",
        "class LayerNormalization():\n",
        "    def __init__(self, parameters_shape, eps=1e-5):\n",
        "        self.parameters_shape=parameters_shape\n",
        "        self.eps=eps\n",
        "        self.gamma = nn.Parameter(torch.ones(parameters_shape))\n",
        "        self.beta =  nn.Parameter(torch.zeros(parameters_shape))\n",
        "\n",
        "    def forward(self, input):\n",
        "        dims = [-(i + 1) for i in range(len(self.parameters_shape))]\n",
        "        mean = inputs.mean(dim=dims, keepdim=True)\n",
        "        print(f\"Mean \\n ({mean.size()}): \\n {mean}\")\n",
        "        var = ((inputs - mean) ** 2).mean(dim=dims, keepdim=True)\n",
        "        std = (var + self.eps).sqrt()\n",
        "        print(f\"Standard Deviation \\n ({std.size()}): \\n {std}\")\n",
        "        y = (inputs - mean) / std\n",
        "        print(f\"y \\n ({y.size()}) = \\n {y}\")\n",
        "        out = self.gamma * y  + self.beta\n",
        "        print(f\"out \\n ({out.size()}) = \\n {out}\")\n",
        "        return out"
      ],
      "metadata": {
        "id": "KQ-9KhuhlkGH"
      },
      "execution_count": null,
      "outputs": []
    },
    {
      "cell_type": "code",
      "source": [
        "batch_size = 3\n",
        "sentence_length = 5\n",
        "embedding_dim = 8\n",
        "inputs = torch.randn(sentence_length, batch_size, embedding_dim)\n",
        "\n",
        "print(f\"input \\n ({inputs.size()}) = \\n {inputs}\")"
      ],
      "metadata": {
        "colab": {
          "base_uri": "https://localhost:8080/"
        },
        "id": "kqHlbpVUlm1s",
        "outputId": "a6c69e05-96ce-4bee-9a90-88443ef86110"
      },
      "execution_count": null,
      "outputs": [
        {
          "output_type": "stream",
          "name": "stdout",
          "text": [
            "input \n",
            " (torch.Size([5, 3, 8])) = \n",
            " tensor([[[ 2.4260,  0.9442, -0.9984,  1.1918,  0.5910, -1.3366,  0.4683,\n",
            "          -0.0749],\n",
            "         [ 0.3600, -0.0958, -1.6559,  0.1489,  1.0259,  1.5067, -1.3143,\n",
            "           0.9772],\n",
            "         [-0.7535, -0.6716,  1.6041, -0.7733, -0.4921,  0.5063,  0.7917,\n",
            "           0.0783]],\n",
            "\n",
            "        [[-0.4813, -1.4185,  0.0549,  0.2196, -0.2825,  1.2432, -0.7605,\n",
            "          -2.3117],\n",
            "         [-0.1968, -0.7716, -0.2591, -0.0277, -1.4751,  1.2612,  0.7635,\n",
            "          -1.0877],\n",
            "         [ 1.1633, -0.0233,  0.5616,  0.7687, -0.1166,  0.0241,  2.3081,\n",
            "          -0.9795]],\n",
            "\n",
            "        [[-0.2853,  1.7670, -1.1398, -0.2916, -1.2310, -0.3929, -0.9294,\n",
            "          -2.0001],\n",
            "         [ 2.0130, -0.2587,  1.2018,  0.5848, -1.1394, -1.4015,  0.7736,\n",
            "          -1.1247],\n",
            "         [ 0.6259, -0.3924, -0.9036,  0.2023,  2.9318,  2.2872,  0.8503,\n",
            "           1.4413]],\n",
            "\n",
            "        [[-0.7153, -1.1154,  0.1698,  1.5532,  0.4877, -0.3071, -0.7821,\n",
            "          -0.7591],\n",
            "         [ 0.4821, -0.6515,  0.6607, -0.8564,  1.1224,  0.3446,  0.0703,\n",
            "           2.1295],\n",
            "         [-0.0485, -1.2064, -0.9799, -0.6993, -1.8086,  0.2579, -0.5828,\n",
            "           0.0198]],\n",
            "\n",
            "        [[ 0.5768,  1.0623, -0.0545,  0.0838, -1.9036, -0.4781,  0.8834,\n",
            "          -0.4893],\n",
            "         [ 1.2557,  1.0424, -0.4338, -0.9432,  0.1198,  0.9571, -0.3761,\n",
            "          -0.3773],\n",
            "         [-1.3711,  1.2365, -0.4202, -1.5585, -0.1153, -0.8522,  0.2293,\n",
            "          -1.2992]]])\n"
          ]
        }
      ]
    },
    {
      "cell_type": "code",
      "source": [
        "\n",
        "inputs.size()"
      ],
      "metadata": {
        "colab": {
          "base_uri": "https://localhost:8080/"
        },
        "id": "7hndqekZltYP",
        "outputId": "97d8d5eb-765a-4acd-de1a-66d78b44a434"
      },
      "execution_count": null,
      "outputs": [
        {
          "output_type": "execute_result",
          "data": {
            "text/plain": [
              "torch.Size([5, 3, 8])"
            ]
          },
          "metadata": {},
          "execution_count": 19
        }
      ]
    },
    {
      "cell_type": "code",
      "source": [
        "inputs.size()[-1:]"
      ],
      "metadata": {
        "colab": {
          "base_uri": "https://localhost:8080/"
        },
        "id": "EB7vE2e8mA12",
        "outputId": "d69e1573-fd79-41f3-fa45-c4b52300678d"
      },
      "execution_count": null,
      "outputs": [
        {
          "output_type": "execute_result",
          "data": {
            "text/plain": [
              "torch.Size([8])"
            ]
          },
          "metadata": {},
          "execution_count": 20
        }
      ]
    },
    {
      "cell_type": "code",
      "source": [
        "layer_norm = LayerNormalization(inputs.size()[-1:])\n",
        "out = layer_norm.forward(inputs)"
      ],
      "metadata": {
        "colab": {
          "base_uri": "https://localhost:8080/"
        },
        "id": "n0_Zvw_rmBpi",
        "outputId": "4f2c755a-0930-4fbe-bd28-00fdc7b212b4"
      },
      "execution_count": null,
      "outputs": [
        {
          "output_type": "stream",
          "name": "stdout",
          "text": [
            "Mean \n",
            " (torch.Size([5, 3, 1])): \n",
            " tensor([[[ 0.4014],\n",
            "         [ 0.1191],\n",
            "         [ 0.0362]],\n",
            "\n",
            "        [[-0.4671],\n",
            "         [-0.2242],\n",
            "         [ 0.4633]],\n",
            "\n",
            "        [[-0.5629],\n",
            "         [ 0.0811],\n",
            "         [ 0.8803]],\n",
            "\n",
            "        [[-0.1835],\n",
            "         [ 0.4127],\n",
            "         [-0.6310]],\n",
            "\n",
            "        [[-0.0399],\n",
            "         [ 0.1556],\n",
            "         [-0.5188]]])\n",
            "Standard Deviation \n",
            " (torch.Size([5, 3, 1])): \n",
            " tensor([[[1.1328],\n",
            "         [1.0485],\n",
            "         [0.8148]],\n",
            "\n",
            "        [[1.0061],\n",
            "         [0.8539],\n",
            "         [0.9249]],\n",
            "\n",
            "        [[1.0360],\n",
            "         [1.1715],\n",
            "         [1.2160]],\n",
            "\n",
            "        [[0.8252],\n",
            "         [0.8932],\n",
            "         [0.6519]],\n",
            "\n",
            "        [[0.8896],\n",
            "         [0.7715],\n",
            "         [0.8903]]])\n",
            "y \n",
            " (torch.Size([5, 3, 8])) = \n",
            " tensor([[[ 1.7873,  0.4791, -1.2357,  0.6977,  0.1673, -1.5343,  0.0590,\n",
            "          -0.4205],\n",
            "         [ 0.2298, -0.2050, -1.6929,  0.0284,  0.8649,  1.3234, -1.3671,\n",
            "           0.8184],\n",
            "         [-0.9693, -0.8687,  1.9243, -0.9935, -0.6485,  0.5769,  0.9272,\n",
            "           0.0516]],\n",
            "\n",
            "        [[-0.0141, -0.9457,  0.5189,  0.6826,  0.1835,  1.7000, -0.2916,\n",
            "          -1.8335],\n",
            "         [ 0.0321, -0.6411, -0.0409,  0.2301, -1.4651,  1.7396,  1.1567,\n",
            "          -1.0113],\n",
            "         [ 0.7568, -0.5261,  0.1063,  0.3302, -0.6270, -0.4749,  1.9945,\n",
            "          -1.5599]],\n",
            "\n",
            "        [[ 0.2679,  2.2489, -0.5568,  0.2618, -0.6449,  0.1640, -0.3537,\n",
            "          -1.3872],\n",
            "         [ 1.6491, -0.2901,  0.9566,  0.4300, -1.0419, -1.2656,  0.5911,\n",
            "          -1.0293],\n",
            "         [-0.2092, -1.0466, -1.4670, -0.5576,  1.6869,  1.1569, -0.0247,\n",
            "           0.4613]],\n",
            "\n",
            "        [[-0.6443, -1.1293,  0.4281,  2.1046,  0.8134, -0.1497, -0.7254,\n",
            "          -0.6974],\n",
            "         [ 0.0777, -1.1915,  0.2776, -1.4209,  0.7945, -0.0763, -0.3833,\n",
            "           1.9221],\n",
            "         [ 0.8935, -0.8827, -0.5352, -0.1048, -1.8065,  1.3635,  0.0740,\n",
            "           0.9983]],\n",
            "\n",
            "        [[ 0.6933,  1.2391, -0.0165,  0.1391, -2.0951, -0.4926,  1.0379,\n",
            "          -0.5052],\n",
            "         [ 1.4260,  1.1494, -0.7639, -1.4241, -0.0464,  1.0389, -0.6892,\n",
            "          -0.6907],\n",
            "         [-0.9573,  1.9717,  0.1108, -1.1677,  0.4532, -0.3744,  0.8404,\n",
            "          -0.8766]]])\n",
            "out \n",
            " (torch.Size([5, 3, 8])) = \n",
            " tensor([[[ 1.7873,  0.4791, -1.2357,  0.6977,  0.1673, -1.5343,  0.0590,\n",
            "          -0.4205],\n",
            "         [ 0.2298, -0.2050, -1.6929,  0.0284,  0.8649,  1.3234, -1.3671,\n",
            "           0.8184],\n",
            "         [-0.9693, -0.8687,  1.9243, -0.9935, -0.6485,  0.5769,  0.9272,\n",
            "           0.0516]],\n",
            "\n",
            "        [[-0.0141, -0.9457,  0.5189,  0.6826,  0.1835,  1.7000, -0.2916,\n",
            "          -1.8335],\n",
            "         [ 0.0321, -0.6411, -0.0409,  0.2301, -1.4651,  1.7396,  1.1567,\n",
            "          -1.0113],\n",
            "         [ 0.7568, -0.5261,  0.1063,  0.3302, -0.6270, -0.4749,  1.9945,\n",
            "          -1.5599]],\n",
            "\n",
            "        [[ 0.2679,  2.2489, -0.5568,  0.2618, -0.6449,  0.1640, -0.3537,\n",
            "          -1.3872],\n",
            "         [ 1.6491, -0.2901,  0.9566,  0.4300, -1.0419, -1.2656,  0.5911,\n",
            "          -1.0293],\n",
            "         [-0.2092, -1.0466, -1.4670, -0.5576,  1.6869,  1.1569, -0.0247,\n",
            "           0.4613]],\n",
            "\n",
            "        [[-0.6443, -1.1293,  0.4281,  2.1046,  0.8134, -0.1497, -0.7254,\n",
            "          -0.6974],\n",
            "         [ 0.0777, -1.1915,  0.2776, -1.4209,  0.7945, -0.0763, -0.3833,\n",
            "           1.9221],\n",
            "         [ 0.8935, -0.8827, -0.5352, -0.1048, -1.8065,  1.3635,  0.0740,\n",
            "           0.9983]],\n",
            "\n",
            "        [[ 0.6933,  1.2391, -0.0165,  0.1391, -2.0951, -0.4926,  1.0379,\n",
            "          -0.5052],\n",
            "         [ 1.4260,  1.1494, -0.7639, -1.4241, -0.0464,  1.0389, -0.6892,\n",
            "          -0.6907],\n",
            "         [-0.9573,  1.9717,  0.1108, -1.1677,  0.4532, -0.3744,  0.8404,\n",
            "          -0.8766]]], grad_fn=<AddBackward0>)\n"
          ]
        }
      ]
    },
    {
      "cell_type": "code",
      "source": [
        "out[0].mean(), out[0].std()"
      ],
      "metadata": {
        "colab": {
          "base_uri": "https://localhost:8080/"
        },
        "id": "eEAZblvYmGd1",
        "outputId": "19ecd009-c9c5-4c6a-91a9-243ecab33b71"
      },
      "execution_count": null,
      "outputs": [
        {
          "output_type": "execute_result",
          "data": {
            "text/plain": [
              "(tensor(1.2418e-09, grad_fn=<MeanBackward0>),\n",
              " tensor(1.0215, grad_fn=<StdBackward0>))"
            ]
          },
          "metadata": {},
          "execution_count": 22
        }
      ]
    }
  ]
}