{
  "nbformat": 4,
  "nbformat_minor": 0,
  "metadata": {
    "colab": {
      "provenance": [],
      "gpuType": "T4",
      "authorship_tag": "ABX9TyMVElBs1HybP99erOy7VUVX",
      "include_colab_link": true
    },
    "kernelspec": {
      "name": "python3",
      "display_name": "Python 3"
    },
    "language_info": {
      "name": "python"
    },
    "accelerator": "GPU"
  },
  "cells": [
    {
      "cell_type": "markdown",
      "metadata": {
        "id": "view-in-github",
        "colab_type": "text"
      },
      "source": [
        "<a href=\"https://colab.research.google.com/github/KhosrojerdiA/Transformer-MT/blob/main/Self_Attention_for_Transformer_Neural_Networks_ipynb.ipynb\" target=\"_parent\"><img src=\"https://colab.research.google.com/assets/colab-badge.svg\" alt=\"Open In Colab\"/></a>"
      ]
    },
    {
      "cell_type": "code",
      "execution_count": null,
      "metadata": {
        "colab": {
          "base_uri": "https://localhost:8080/"
        },
        "id": "UJE4YEsp9vA-",
        "outputId": "703ef9c9-2513-4f7e-dce2-f682e62b4b4b"
      },
      "outputs": [
        {
          "output_type": "stream",
          "name": "stdout",
          "text": [
            "Q\n",
            " [[-0.14850577 -0.38854077  0.04105815  0.2318679   0.48228309 -1.973148\n",
            "   0.11248419 -0.46860209]\n",
            " [ 0.82969571 -1.37349842  0.96092752  0.48046426 -0.47431857 -1.03758776\n",
            "  -0.29850353 -0.10680182]\n",
            " [ 0.21915367  1.58990994 -0.39338964 -0.20344369 -0.94076749 -0.55524636\n",
            "  -0.07056268  1.08125342]\n",
            " [ 1.95410423 -0.18980239  1.08069138  0.31875452 -1.50901968  0.9168811\n",
            "  -0.53423445 -2.02955373]]\n",
            "K\n",
            " [[-0.33684255  0.16810722 -0.24032345  0.0158989  -0.87029466 -0.57987655\n",
            "   0.03999305  1.3653062 ]\n",
            " [-1.67985584 -0.64685668  0.66350803  0.13000161  1.12966336 -0.0226624\n",
            "  -0.13960171  0.6337987 ]\n",
            " [ 1.53373691  0.11402093 -0.64966298 -0.5848983  -2.61042876  0.81217071\n",
            "  -2.07867211 -0.23107884]\n",
            " [ 1.13672642  0.50400009  1.67598546  0.93200105  0.96124538 -0.87078291\n",
            "   0.49938286  0.73747774]]\n",
            "V\n",
            " [[ 0.71842184  0.62192839  0.46744253 -0.89474037 -0.01795541 -0.36448671\n",
            "  -0.43440985 -0.24264572]\n",
            " [ 0.51516026  0.23048102  0.03978253 -1.18301522  0.87800389  0.41290312\n",
            "  -1.139564    0.10060197]\n",
            " [ 1.32944975  0.85433269 -1.02514368  0.04584228  1.34557138  0.11424428\n",
            "  -0.82496959  0.17638493]\n",
            " [ 0.26783262  0.50751697  0.05126477 -0.32695964  0.01664238 -0.40701817\n",
            "   0.71861605 -0.30750033]]\n"
          ]
        }
      ],
      "source": [
        "#initialize the random vectors\n",
        "import numpy as np\n",
        "import math\n",
        "\n",
        "L, d_k, d_v = 4, 8, 8\n",
        "#L is the length of the input (My name is Khosro which is 4)\n",
        "q = np.random.randn(L, d_k) #initializing the normal distibution\n",
        "k = np.random.randn(L, d_k)\n",
        "v = np.random.randn(L, d_v)\n",
        "\n",
        "#4*8\n",
        "\n",
        "print(\"Q\\n\", q) #for every single work, it has 8*1 vector\n",
        "print(\"K\\n\", k)\n",
        "print(\"V\\n\", v)"
      ]
    },
    {
      "cell_type": "code",
      "source": [],
      "metadata": {
        "id": "EpN5pUQY-c_5"
      },
      "execution_count": null,
      "outputs": []
    },
    {
      "cell_type": "markdown",
      "source": [
        "![Screenshot 2023-10-16 at 10.55.11 AM.png](data:image/png;base64,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)"
      ],
      "metadata": {
        "id": "9whfAZi2-i6C"
      }
    },
    {
      "cell_type": "code",
      "source": [
        "np.matmul(q, k.T) #sqrt dk for stabalizing the variance"
      ],
      "metadata": {
        "colab": {
          "base_uri": "https://localhost:8080/"
        },
        "id": "SrJ4PO5k-ufD",
        "outputId": "6329d803-68de-4ea7-f365-6d3351f8ecda"
      },
      "execution_count": null,
      "outputs": [
        {
          "output_type": "execute_result",
          "data": {
            "text/plain": [
              "array([[ 0.06769287,  0.83501551, -3.42139604,  1.81264401],\n",
              "       [ 0.12304809, -0.34359362,  1.25127264,  2.5289331 ],\n",
              "       [ 2.89890054, -2.0390753 ,  2.7936452 ,  0.54286064],\n",
              "       [-2.95549429, -5.33856389,  8.35025369,  0.22144327]])"
            ]
          },
          "metadata": {},
          "execution_count": 3
        }
      ]
    },
    {
      "cell_type": "code",
      "source": [
        "\n",
        "scaled = np.matmul(q, k.T) / math.sqrt(d_k)\n",
        "q.var(), k.var(), scaled.var()\n"
      ],
      "metadata": {
        "colab": {
          "base_uri": "https://localhost:8080/"
        },
        "id": "E-Tx07TQ_Cq4",
        "outputId": "e19e93ea-876b-4fd4-ce55-47a88438accc"
      },
      "execution_count": null,
      "outputs": [
        {
          "output_type": "execute_result",
          "data": {
            "text/plain": [
              "(0.8538807574479022, 0.9737500548226917, 1.1570592870558634)"
            ]
          },
          "metadata": {},
          "execution_count": 4
        }
      ]
    },
    {
      "cell_type": "code",
      "source": [
        "#Masking: especifing for decoder part\n",
        "#This is to ensure words don't get context from words generated in the future.\n",
        "#Not required in the encoders, but required int he decoders\n",
        "\n",
        "\n",
        "mask = np.tril(np.ones( (L, L) )) #triangular matrix\n",
        "mask\n",
        "\n",
        "# first row is: My\n",
        "#scond row is: My name"
      ],
      "metadata": {
        "colab": {
          "base_uri": "https://localhost:8080/"
        },
        "id": "JH4WQPm-_NW0",
        "outputId": "aba98086-79bc-4f82-e63a-3c12eeb1b455"
      },
      "execution_count": null,
      "outputs": [
        {
          "output_type": "execute_result",
          "data": {
            "text/plain": [
              "array([[1., 0., 0., 0.],\n",
              "       [1., 1., 0., 0.],\n",
              "       [1., 1., 1., 0.],\n",
              "       [1., 1., 1., 1.]])"
            ]
          },
          "metadata": {},
          "execution_count": 5
        }
      ]
    },
    {
      "cell_type": "code",
      "source": [
        "\n",
        "mask[mask == 0] = -np.infty\n",
        "mask[mask == 1] = 0\n",
        "mask\n",
        "#adding inf for softmax operation next"
      ],
      "metadata": {
        "colab": {
          "base_uri": "https://localhost:8080/"
        },
        "id": "t55GxjIh_WE8",
        "outputId": "73648e88-2ef2-4732-d5fc-46fad922546f"
      },
      "execution_count": null,
      "outputs": [
        {
          "output_type": "execute_result",
          "data": {
            "text/plain": [
              "array([[  0., -inf, -inf, -inf],\n",
              "       [  0.,   0., -inf, -inf],\n",
              "       [  0.,   0.,   0., -inf],\n",
              "       [  0.,   0.,   0.,   0.]])"
            ]
          },
          "metadata": {},
          "execution_count": 6
        }
      ]
    },
    {
      "cell_type": "code",
      "source": [
        "\n",
        "scaled + mask\n"
      ],
      "metadata": {
        "colab": {
          "base_uri": "https://localhost:8080/"
        },
        "id": "I1gM38XF_Ybr",
        "outputId": "2b9d5a31-c7c2-4346-b599-0112d14f7ffe"
      },
      "execution_count": null,
      "outputs": [
        {
          "output_type": "execute_result",
          "data": {
            "text/plain": [
              "array([[ 0.02393304,        -inf,        -inf,        -inf],\n",
              "       [ 0.04350407, -0.12147869,        -inf,        -inf],\n",
              "       [ 1.02491611, -0.72092199,  0.98770273,        -inf],\n",
              "       [-1.04492503, -1.88746736,  2.9522605 ,  0.07829202]])"
            ]
          },
          "metadata": {},
          "execution_count": 7
        }
      ]
    },
    {
      "cell_type": "code",
      "source": [
        "#softmax\n",
        "\n",
        "def softmax(x):\n",
        "  return (np.exp(x).T / np.sum(np.exp(x), axis=-1)).T"
      ],
      "metadata": {
        "id": "Lmy-dfq4_ahr"
      },
      "execution_count": null,
      "outputs": []
    },
    {
      "cell_type": "code",
      "source": [
        "\n",
        "attention = softmax(scaled + mask)\n",
        "attention"
      ],
      "metadata": {
        "colab": {
          "base_uri": "https://localhost:8080/"
        },
        "id": "dW1IXWSP_eYE",
        "outputId": "a39b098f-575a-40c9-fd51-43e30214066b"
      },
      "execution_count": null,
      "outputs": [
        {
          "output_type": "execute_result",
          "data": {
            "text/plain": [
              "array([[1.        , 0.        , 0.        , 0.        ],\n",
              "       [0.54115239, 0.45884761, 0.        , 0.        ],\n",
              "       [0.46773358, 0.08161889, 0.45064752, 0.        ],\n",
              "       [0.01696352, 0.00730473, 0.92357352, 0.05215823]])"
            ]
          },
          "metadata": {},
          "execution_count": 9
        }
      ]
    },
    {
      "cell_type": "code",
      "source": [
        "#new V = self attention.V\n",
        "new_v = np.matmul(attention, v)\n",
        "new_v\n"
      ],
      "metadata": {
        "colab": {
          "base_uri": "https://localhost:8080/"
        },
        "id": "oEVOV7Mu_hd9",
        "outputId": "e06f082b-5233-45ac-bcf3-47b0c388d02c"
      },
      "execution_count": null,
      "outputs": [
        {
          "output_type": "execute_result",
          "data": {
            "text/plain": [
              "array([[ 0.71842184,  0.62192839,  0.46744253, -0.89474037, -0.01795541,\n",
              "        -0.36448671, -0.43440985, -0.24264572],\n",
              "       [ 0.62515575,  0.4423137 ,  0.27121176, -1.0270146 ,  0.39315338,\n",
              "        -0.00778324, -0.75796815, -0.08514734],\n",
              "       [ 0.97719007,  0.69471131, -0.24009288, -0.4943978 ,  0.66964176,\n",
              "        -0.08529808, -0.66796853, -0.0257951 ],\n",
              "       [ 1.25776433,  0.82774393, -0.93590161,  0.00146553,  1.24971113,\n",
              "         0.08111682, -0.74013166,  0.14348452]])"
            ]
          },
          "metadata": {},
          "execution_count": 10
        }
      ]
    },
    {
      "cell_type": "code",
      "source": [
        "#Function\n",
        "\n",
        "\n",
        "def softmax(x):\n",
        "  return (np.exp(x).T / np.sum(np.exp(x), axis=-1)).T\n",
        "\n",
        "def scaled_dot_product_attention(q, k, v, mask=None):\n",
        "  d_k = q.shape[-1]\n",
        "  scaled = np.matmul(q, k.T) / math.sqrt(d_k)\n",
        "  if mask is not None:\n",
        "    scaled = scaled + mask\n",
        "  attention = softmax(scaled)\n",
        "  out = np.matmul(attention, v)\n",
        "  return out, attention"
      ],
      "metadata": {
        "id": "H-iAG26A_sa7"
      },
      "execution_count": null,
      "outputs": []
    },
    {
      "cell_type": "code",
      "source": [
        "\n",
        "values, attention = scaled_dot_product_attention(q, k, v, mask=mask)\n",
        "print(\"Q\\n\", q)\n",
        "print(\"K\\n\", k)\n",
        "print(\"V\\n\", v)\n",
        "print(\"New V\\n\", values)\n",
        "print(\"Attention\\n\", attention)"
      ],
      "metadata": {
        "colab": {
          "base_uri": "https://localhost:8080/"
        },
        "id": "GNlbNEhk_023",
        "outputId": "419982a9-3ebf-44b6-8569-b42e758de71e"
      },
      "execution_count": null,
      "outputs": [
        {
          "output_type": "stream",
          "name": "stdout",
          "text": [
            "Q\n",
            " [[-0.14850577 -0.38854077  0.04105815  0.2318679   0.48228309 -1.973148\n",
            "   0.11248419 -0.46860209]\n",
            " [ 0.82969571 -1.37349842  0.96092752  0.48046426 -0.47431857 -1.03758776\n",
            "  -0.29850353 -0.10680182]\n",
            " [ 0.21915367  1.58990994 -0.39338964 -0.20344369 -0.94076749 -0.55524636\n",
            "  -0.07056268  1.08125342]\n",
            " [ 1.95410423 -0.18980239  1.08069138  0.31875452 -1.50901968  0.9168811\n",
            "  -0.53423445 -2.02955373]]\n",
            "K\n",
            " [[-0.33684255  0.16810722 -0.24032345  0.0158989  -0.87029466 -0.57987655\n",
            "   0.03999305  1.3653062 ]\n",
            " [-1.67985584 -0.64685668  0.66350803  0.13000161  1.12966336 -0.0226624\n",
            "  -0.13960171  0.6337987 ]\n",
            " [ 1.53373691  0.11402093 -0.64966298 -0.5848983  -2.61042876  0.81217071\n",
            "  -2.07867211 -0.23107884]\n",
            " [ 1.13672642  0.50400009  1.67598546  0.93200105  0.96124538 -0.87078291\n",
            "   0.49938286  0.73747774]]\n",
            "V\n",
            " [[ 0.71842184  0.62192839  0.46744253 -0.89474037 -0.01795541 -0.36448671\n",
            "  -0.43440985 -0.24264572]\n",
            " [ 0.51516026  0.23048102  0.03978253 -1.18301522  0.87800389  0.41290312\n",
            "  -1.139564    0.10060197]\n",
            " [ 1.32944975  0.85433269 -1.02514368  0.04584228  1.34557138  0.11424428\n",
            "  -0.82496959  0.17638493]\n",
            " [ 0.26783262  0.50751697  0.05126477 -0.32695964  0.01664238 -0.40701817\n",
            "   0.71861605 -0.30750033]]\n",
            "New V\n",
            " [[ 0.71842184  0.62192839  0.46744253 -0.89474037 -0.01795541 -0.36448671\n",
            "  -0.43440985 -0.24264572]\n",
            " [ 0.62515575  0.4423137   0.27121176 -1.0270146   0.39315338 -0.00778324\n",
            "  -0.75796815 -0.08514734]\n",
            " [ 0.97719007  0.69471131 -0.24009288 -0.4943978   0.66964176 -0.08529808\n",
            "  -0.66796853 -0.0257951 ]\n",
            " [ 1.25776433  0.82774393 -0.93590161  0.00146553  1.24971113  0.08111682\n",
            "  -0.74013166  0.14348452]]\n",
            "Attention\n",
            " [[1.         0.         0.         0.        ]\n",
            " [0.54115239 0.45884761 0.         0.        ]\n",
            " [0.46773358 0.08161889 0.45064752 0.        ]\n",
            " [0.01696352 0.00730473 0.92357352 0.05215823]]\n"
          ]
        }
      ]
    }
  ]
}